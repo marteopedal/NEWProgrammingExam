{
  "nbformat": 4,
  "nbformat_minor": 0,
  "metadata": {
    "colab": {
      "provenance": [],
      "authorship_tag": "ABX9TyNiRnJ5Y3UZMWH/C/zDw/hA",
      "include_colab_link": true
    },
    "kernelspec": {
      "name": "python3",
      "display_name": "Python 3"
    },
    "language_info": {
      "name": "python"
    }
  },
  "cells": [
    {
      "cell_type": "markdown",
      "metadata": {
        "id": "view-in-github",
        "colab_type": "text"
      },
      "source": [
        "<a href=\"https://colab.research.google.com/github/marteopedal/NEWProgrammingExam/blob/main/ExamProgramming.ipynb\" target=\"_parent\"><img src=\"https://colab.research.google.com/assets/colab-badge.svg\" alt=\"Open In Colab\"/></a>"
      ]
    },
    {
      "cell_type": "markdown",
      "source": [
        "<div align=\"center\">\n",
        "\n",
        "# Exam Ethical Shopping Assistant\n",
        "\n",
        "## Programming, Algorithms and Data Structures [KAN-CDSCO2402U]\n",
        "\n",
        "**Marte Opedal (153297)**\n",
        "\n",
        "\n",
        "\n",
        "*MSc in Business Administration and Data Science*\n",
        "\n",
        "</div>"
      ],
      "metadata": {
        "id": "Q0GF7weK9LP7"
      }
    },
    {
      "cell_type": "markdown",
      "source": [
        "## Classes"
      ],
      "metadata": {
        "id": "_dKzRrUiJuke"
      }
    },
    {
      "cell_type": "code",
      "source": [
        "#creating the brand class\n",
        "class Brand:\n",
        "    def __init__(self, brand_id, name, country, rating, material, carbon_footprint, water_usage, avg_price, certifications):\n",
        "        self.brand_id = brand_id.strip()\n",
        "        self.name = name.strip()\n",
        "        self.country = country.strip().lower()  # Normalize country\n",
        "        self.rating = rating.strip().upper()  # Keep ratings like A, B, C, D\n",
        "        self.material = material.strip().lower()  # Normalize material\n",
        "        self.carbon_footprint = carbon_footprint\n",
        "        self.water_usage = water_usage\n",
        "        self.avg_price = avg_price\n",
        "        self.certifications = certifications.strip()\n"
      ],
      "metadata": {
        "id": "-ykYt291WvvM"
      },
      "execution_count": 44,
      "outputs": []
    },
    {
      "cell_type": "code",
      "source": [
        "#creating the shopping assistant class\n",
        "class ShoppingAssistant:\n",
        "    def __init__(self, brands):\n",
        "        self.brands = brands if brands else []\n",
        "\n",
        "    def display_brands(self, count=5):\n",
        "        print(f\"\\nDisplaying {count} brands:\")\n",
        "        table_data = [\n",
        "            [\n",
        "                brand.brand_id,\n",
        "                brand.name,\n",
        "                brand.country,\n",
        "                brand.rating,\n",
        "                brand.material,\n",
        "                brand.carbon_footprint,\n",
        "                brand.water_usage,\n",
        "                brand.avg_price,\n",
        "                brand.certifications\n",
        "            ]\n",
        "            for brand in self.brands[:count]\n",
        "        ]\n",
        "        headers = [\"ID\", \"Name\", \"Country\", \"Rating\", \"Material\", \"CO2 (MT)\", \"Water (L)\", \"Avg Price\", \"Certifications\"]\n",
        "        print(tabulate(table_data, headers=headers, tablefmt=\"grid\"))\n",
        "\n",
        "    def sort_by_rating(self):\n",
        "        self.brands.sort(key=lambda x: x.rating)\n",
        "        print(\"\\nBrands sorted by sustainability rating.\")\n",
        "        self.display_brands(len(self.brands))\n",
        "\n",
        "    def search_brand_by_name(self, name):\n",
        "        name = name.strip().lower()\n",
        "        filtered = [brand for brand in self.brands if brand.name.lower() == name]\n",
        "        self._display_filtered_brands(filtered, f\"Brand with name '{name}'\")\n",
        "\n",
        "    def filter_brands_by_country(self, country):\n",
        "        country = country.strip().lower()\n",
        "        filtered = [brand for brand in self.brands if brand.country == country]\n",
        "        self._display_filtered_brands(filtered, f\"Brands from '{country}'\")\n",
        "\n",
        "    def filter_brands_by_material(self, material):\n",
        "        material = material.strip().lower()\n",
        "        filtered = [brand for brand in self.brands if material in brand.material]\n",
        "        self._display_filtered_brands(filtered, f\"Brands using material '{material}'\")\n",
        "\n",
        "    def filter_brands_by_certification(self, certification):\n",
        "        certification = certification.strip().lower()\n",
        "        filtered = [brand for brand in self.brands if certification in brand.certifications.lower()]\n",
        "        self._display_filtered_brands(filtered, f\"Brands with certification '{certification}'\")\n",
        "\n",
        "    def _display_filtered_brands(self, filtered, title): #to display the data in the table\n",
        "        if filtered:\n",
        "            print(f\"\\n{title}:\")\n",
        "            table_data = [\n",
        "                [\n",
        "                    brand.brand_id,\n",
        "                    brand.name,\n",
        "                    brand.country,\n",
        "                    brand.rating,\n",
        "                    brand.material,\n",
        "                    brand.carbon_footprint,\n",
        "                    brand.water_usage,\n",
        "                    brand.avg_price,\n",
        "                    brand.certifications\n",
        "                ]\n",
        "                for brand in filtered\n",
        "            ]\n",
        "            headers = [\"ID\", \"Name\", \"Country\", \"Rating\", \"Material\", \"CO2 (MT)\", \"Water (L)\", \"Avg Price\", \"Certifications\"]\n",
        "            print(tabulate(table_data, headers=headers, tablefmt=\"grid\"))\n",
        "        else:\n",
        "            print(f\"No results found for {title}.\")\n"
      ],
      "metadata": {
        "id": "-02_KdBWWy0z"
      },
      "execution_count": 45,
      "outputs": []
    },
    {
      "cell_type": "markdown",
      "source": [
        "## Imports"
      ],
      "metadata": {
        "id": "b64VFUARadJs"
      }
    },
    {
      "cell_type": "code",
      "source": [
        "#mounting google drive\n",
        "from google.colab import drive\n",
        "drive.mount('/content/drive')"
      ],
      "metadata": {
        "colab": {
          "base_uri": "https://localhost:8080/"
        },
        "id": "xk_C0-yAd-CA",
        "outputId": "f95426cd-6b68-4db0-f9cb-a3d23e16a8e4"
      },
      "execution_count": 46,
      "outputs": [
        {
          "output_type": "stream",
          "name": "stdout",
          "text": [
            "Drive already mounted at /content/drive; to attempt to forcibly remount, call drive.mount(\"/content/drive\", force_remount=True).\n"
          ]
        }
      ]
    },
    {
      "cell_type": "code",
      "source": [
        "#importing external libraries\n",
        "import pandas as pd\n",
        "from tabulate import tabulate\n",
        "!pip install tabulate\n",
        "import matplotlib.pyplot as plt\n",
        "import seaborn as sns"
      ],
      "metadata": {
        "colab": {
          "base_uri": "https://localhost:8080/"
        },
        "id": "UggF8thZ9USn",
        "outputId": "9f143d34-28f4-4fd0-8c2c-e922529478e0"
      },
      "execution_count": 47,
      "outputs": [
        {
          "output_type": "stream",
          "name": "stdout",
          "text": [
            "Requirement already satisfied: tabulate in /usr/local/lib/python3.10/dist-packages (0.9.0)\n"
          ]
        }
      ]
    },
    {
      "cell_type": "code",
      "source": [
        "# Load and clean the data\n",
        "df = pd.read_csv('/content/drive/MyDrive/Colab Notebooks/sustainable_fashion_trends_2024.csv')\n",
        "df['Country'] = df['Country'].fillna('').str.strip().str.lower()\n",
        "df['Material_Type'] = df['Material_Type'].fillna('').str.strip().str.lower()\n",
        "df['Brand_Name'] = df['Brand_Name'].fillna('').str.strip()\n",
        "df['Certifications'] = df['Certifications'].fillna('').str.strip()\n",
        "\n",
        "print(\"Data cleaned successfully!\")"
      ],
      "metadata": {
        "colab": {
          "base_uri": "https://localhost:8080/"
        },
        "id": "xnvPHM_4W5Ab",
        "outputId": "e52ed45a-f833-41d3-ad89-8c0c70a029e7"
      },
      "execution_count": 48,
      "outputs": [
        {
          "output_type": "stream",
          "name": "stdout",
          "text": [
            "Data cleaned successfully!\n"
          ]
        }
      ]
    },
    {
      "cell_type": "markdown",
      "source": [
        "## Brand"
      ],
      "metadata": {
        "id": "r3UubQnTbCie"
      }
    },
    {
      "cell_type": "code",
      "source": [
        "# Populate the brands list\n",
        "brands = []\n",
        "for _, row in df.iterrows():\n",
        "    try:\n",
        "        if row['Brand_Name'] and row['Sustainability_Rating']:\n",
        "            brands.append(Brand(\n",
        "                row['Brand_ID'],\n",
        "                row['Brand_Name'],\n",
        "                row['Country'],\n",
        "                row['Sustainability_Rating'],\n",
        "                row['Material_Type'],\n",
        "                row['Carbon_Footprint_MT'],\n",
        "                row['Water_Usage_Liters'],\n",
        "                row['Average_Price_USD'],\n",
        "                row['Certifications']\n",
        "            ))\n",
        "    except Exception as e:\n",
        "        print(f\"Error adding brand: {e}\")\n",
        "\n",
        "print(f\"Number of brands loaded: {len(brands)}\")"
      ],
      "metadata": {
        "id": "cO6jkl-vW8jT",
        "colab": {
          "base_uri": "https://localhost:8080/"
        },
        "outputId": "40a0e12b-6467-4f2a-93fe-104d21ffc7c7"
      },
      "execution_count": 49,
      "outputs": [
        {
          "output_type": "stream",
          "name": "stdout",
          "text": [
            "Number of brands loaded: 5000\n"
          ]
        }
      ]
    },
    {
      "cell_type": "code",
      "source": [
        "#function to make heatmap\n",
        "def visualize_heatmap(df):\n",
        "    \"\"\"\n",
        "    Creates a heatmap to show the average carbon footprint by sustainability rating.\n",
        "    Args:\n",
        "        df (pd.DataFrame): The dataframe containing the data.\n",
        "    \"\"\"\n",
        "    # Pivot the DataFrame for a heatmap\n",
        "    heatmap_data = df.pivot_table(\n",
        "        values=\"Carbon_Footprint_MT\",\n",
        "        index=\"Sustainability_Rating\",\n",
        "        aggfunc=\"mean\"\n",
        "    )\n",
        "\n",
        "    # Create the heatmap\n",
        "    plt.figure(figsize=(8, 6))\n",
        "    sns.heatmap(\n",
        "        heatmap_data,\n",
        "        annot=True,\n",
        "        cmap=\"coolwarm\",\n",
        "        cbar_kws={'label': 'Average Carbon Footprint (MT)'}\n",
        "    )\n",
        "    plt.title(\"Heatmap of Average Carbon Footprint by Sustainability Rating\")\n",
        "    plt.ylabel(\"Sustainability Rating\")\n",
        "    plt.xlabel(\"Average Carbon Footprint (MT)\")\n",
        "    plt.show()\n"
      ],
      "metadata": {
        "id": "z1cuV0oyVPuz"
      },
      "execution_count": 50,
      "outputs": []
    },
    {
      "cell_type": "markdown",
      "source": [
        "## Shopping Assistant Menu"
      ],
      "metadata": {
        "id": "urNU6G40a775"
      }
    },
    {
      "cell_type": "code",
      "source": [
        "# Main Menu\n",
        "def main_menu(assistant):\n",
        "    while True:\n",
        "        print(\"\\nMain Menu:\")\n",
        "        print(\"1. Display all brands\")\n",
        "        print(\"2. Sort brands by sustainability rating\")\n",
        "        print(\"3. Search for a brand by name\")\n",
        "        print(\"4. Filter brands by country\")\n",
        "        print(\"5. Filter brands by material\")\n",
        "        print(\"6. Filter brands by certifications\")\n",
        "        print(\"7. Visualize carbon footprint by sustainability rating\")\n",
        "        print(\"0. Exit\")\n",
        "\n",
        "        choice = input(\"Enter your choice: \").strip()\n",
        "\n",
        "        if choice == \"1\":\n",
        "            assistant.display_brands()\n",
        "        elif choice == \"2\":\n",
        "            assistant.sort_by_rating()\n",
        "            assistant.display_brands()\n",
        "        elif choice == \"3\":\n",
        "            name = input(\"Enter brand name to search: \").strip()\n",
        "            result = assistant.search_brand_by_name(name)\n",
        "            if result:\n",
        "                result.display_info()\n",
        "            else:\n",
        "                print(\"Brand not found.\")\n",
        "        elif choice == \"4\":\n",
        "            country = input(\"Enter country to filter by: \").strip()\n",
        "            filtered = assistant.filter_brands_by_country(country)\n",
        "            if filtered:\n",
        "                for brand in filtered:\n",
        "                    brand.display_info()\n",
        "            else:\n",
        "                print(f\"No brands found in '{country}'.\")\n",
        "        elif choice == \"5\":\n",
        "            material = input(\"Enter material to filter by: \").strip()\n",
        "            filtered = assistant.filter_brands_by_material(material)\n",
        "            if filtered:\n",
        "                for brand in filtered:\n",
        "                    brand.display_info()\n",
        "            else:\n",
        "                print(f\"No brands found using material '{material}'.\")\n",
        "        elif choice == \"6\":\n",
        "            certification = input(\"Enter certification to filter by: \").strip()\n",
        "            filtered = assistant.filter_brands_by_certification(certification)\n",
        "            if filtered:\n",
        "                for brand in filtered:\n",
        "                    brand.display_info()\n",
        "            else:\n",
        "                print(f\"No brands found with certification '{certification}'.\")\n",
        "        elif choice == \"7\":\n",
        "            print(\"Visualizing heatmap for Carbon Footprint by Sustainability Rating...\")\n",
        "            visualize_heatmap()\n",
        "        elif choice == \"0\":\n",
        "            print(\"Exiting program. Goodbye!\")\n",
        "            break\n",
        "        else:\n",
        "            print(\"Invalid choice. Try again.\")\n"
      ],
      "metadata": {
        "id": "hvnmzuqtXAAe"
      },
      "execution_count": 51,
      "outputs": []
    },
    {
      "cell_type": "code",
      "source": [
        "# Initialize the ShoppingAssistant with the brands list\n",
        "assistant = ShoppingAssistant(brands)\n",
        "\n",
        "# Start the main menu\n",
        "main_menu(assistant)"
      ],
      "metadata": {
        "colab": {
          "base_uri": "https://localhost:8080/"
        },
        "id": "AjCp7aNLXFt2",
        "outputId": "d6b9f761-b1c3-4307-99fb-db6babcd7a2f"
      },
      "execution_count": 52,
      "outputs": [
        {
          "output_type": "stream",
          "name": "stdout",
          "text": [
            "\n",
            "Main Menu:\n",
            "1. Display all brands\n",
            "2. Sort brands by sustainability rating\n",
            "3. Search for a brand by name\n",
            "4. Filter brands by country\n",
            "5. Filter brands by material\n",
            "6. Filter brands by certifications\n",
            "7. Visualize carbon footprint by sustainability rating\n",
            "0. Exit\n",
            "Enter your choice: 0\n",
            "Exiting program. Goodbye!\n"
          ]
        }
      ]
    }
  ]
}